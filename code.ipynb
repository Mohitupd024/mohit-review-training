#factorial of a number (positive and less than 20)

def factorial(n):
    if n < 0:
        return 0
    elif n == 0 or n == 1:
        return 1
    else:
        fact = 1
        while(n > 1 & n <20):
            fact *= n
            n -= 1
        return fact
    
# Square of a double value.

def sqr(n):
    return float(n**2)

# Cube of a double value.
def cub(n):
    return float(n**3)
