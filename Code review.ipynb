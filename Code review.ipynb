{
 "cells": [
  {
   "cell_type": "code",
   "execution_count": null,
   "id": "674828f7",
   "metadata": {},
   "outputs": [],
   "source": [
    "#factorial of a number (positive and less than 20)\n",
    "\n",
    "def factorial(n):\n",
    "    if n < 0:\n",
    "        return 0\n",
    "    elif n == 0 or n == 1:\n",
    "        return 1\n",
    "    else:\n",
    "        fact = 1\n",
    "        while(n > 1 & n <20):\n",
    "            fact *= n\n",
    "            n -= 1\n",
    "        return fact\n",
    "    \n",
    "# Square of a double value.\n",
    "\n",
    "def sqr(n):\n",
    "    return float(n**2)\n",
    "\n",
    "# Cube of a double value.\n",
    "def cub(n):\n",
    "    return float(n**3)\n"
   ]
  },
  {
   "cell_type": "code",
   "execution_count": null,
   "id": "0c0ea86e",
   "metadata": {},
   "outputs": [],
   "source": []
  }
 ],
 "metadata": {
  "kernelspec": {
   "display_name": "Python 3 (ipykernel)",
   "language": "python",
   "name": "python3"
  },
  "language_info": {
   "codemirror_mode": {
    "name": "ipython",
    "version": 3
   },
   "file_extension": ".py",
   "mimetype": "text/x-python",
   "name": "python",
   "nbconvert_exporter": "python",
   "pygments_lexer": "ipython3",
   "version": "3.9.12"
  }
 },
 "nbformat": 4,
 "nbformat_minor": 5
}
